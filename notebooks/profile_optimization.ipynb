{
 "cells": [
  {
   "cell_type": "code",
   "execution_count": null,
   "id": "65771812",
   "metadata": {},
   "outputs": [],
   "source": [
    "import os\n",
    "import numpy as np\n",
    "import pandas as pd\n",
    "import matplotlib.pyplot as plt\n",
    "\n",
    "# For optimization\n",
    "from scipy.optimize import minimize\n",
    "\n",
    "plt.rcParams['figure.figsize'] = (12,6)\n",
    "plt.rcParams['axes.grid'] = True\n",
    "\n",
    "# Paths\n",
    "DATA_DIR = \"../data\"\n",
    "\n",
    "# Files from Task 3\n",
    "TSLA_FC_FILE = f\"{DATA_DIR}/tsla_forecast_arima.csv\"  # or LSTM CSV if that's your best model\n"
   ]
  },
  {
   "cell_type": "code",
   "execution_count": null,
   "id": "fe22b94e",
   "metadata": {},
   "outputs": [],
   "source": [
    "# Load cleaned historical data (BND, SPY, TSLA)\n",
    "close_prices_clean = pd.read_csv(f\"{DATA_DIR}/close_prices_clean.csv\", index_col=0, parse_dates=True)\n",
    "\n",
    "# Extract only the 3 assets\n",
    "cols_needed = []\n",
    "for asset in [\"BND\", \"SPY\", \"TSLA\"]:\n",
    "    for c in close_prices_clean.columns:\n",
    "        if asset in c:\n",
    "            cols_needed.append(c)\n",
    "            break\n",
    "hist_prices = close_prices_clean[cols_needed].dropna().sort_index()\n",
    "hist_prices.columns = [\"BND\", \"SPY\", \"TSLA\"]\n",
    "\n",
    "# Load your TSLA forecast from best model (e.g., ARIMA output)\n",
    "tsla_fc = pd.read_csv(TSLA_FC_FILE, index_col=0, parse_dates=True)\n"
   ]
  },
  {
   "cell_type": "code",
   "execution_count": null,
   "id": "f62e85a4",
   "metadata": {},
   "outputs": [],
   "source": [
    "# Historical daily returns\n",
    "daily_returns_hist = hist_prices.pct_change().dropna()\n",
    "\n",
    "# Annualization factor for daily data (trading days)\n",
    "TRADING_DAYS = 252\n",
    "\n",
    "# Expected returns vector\n",
    "# TSLA: from forecast\n",
    "tsla_daily_ret_fc = tsla_fc[\"ARIMA_Forecast\"].pct_change().dropna()\n",
    "tsla_exp_annual_ret = (1 + tsla_daily_ret_fc.mean())**TRADING_DAYS - 1\n",
    "\n",
    "# BND, SPY: from history\n",
    "bnd_exp_annual_ret = (1 + daily_returns_hist[\"BND\"].mean())**TRADING_DAYS - 1\n",
    "spy_exp_annual_ret = (1 + daily_returns_hist[\"SPY\"].mean())**TRADING_DAYS - 1\n",
    "\n",
    "exp_returns = np.array([bnd_exp_annual_ret, spy_exp_annual_ret, tsla_exp_annual_ret])\n",
    "assets = [\"BND\", \"SPY\", \"TSLA\"]\n",
    "\n",
    "print(\"Expected Annual Returns:\")\n",
    "for a, r in zip(assets, exp_returns):\n",
    "    print(f\"{a}: {r:.2%}\")\n"
   ]
  },
  {
   "cell_type": "markdown",
   "id": "c9215085",
   "metadata": {},
   "source": [
    "Covariance matrix (historical)"
   ]
  },
  {
   "cell_type": "code",
   "execution_count": null,
   "id": "405adbda",
   "metadata": {},
   "outputs": [],
   "source": [
    "# Annualized covariance matrix from daily returns\n",
    "cov_matrix_annual = daily_returns_hist.cov() * TRADING_DAYS\n",
    "cov_matrix_annual\n"
   ]
  },
  {
   "cell_type": "markdown",
   "id": "02315f75",
   "metadata": {},
   "source": [
    "Portfolio functions"
   ]
  },
  {
   "cell_type": "code",
   "execution_count": null,
   "id": "467ca25b",
   "metadata": {},
   "outputs": [],
   "source": [
    "def portfolio_performance(weights, exp_returns, cov_matrix):\n",
    "    port_return = np.dot(weights, exp_returns)\n",
    "    port_vol    = np.sqrt(np.dot(weights.T, np.dot(cov_matrix, weights)))\n",
    "    return port_return, port_vol\n",
    "\n",
    "def neg_sharpe_ratio(weights, exp_returns, cov_matrix, risk_free_rate=0.02):\n",
    "    p_ret, p_vol = portfolio_performance(weights, exp_returns, cov_matrix)\n",
    "    return -(p_ret - risk_free_rate) / p_vol\n",
    "\n",
    "def min_volatility(weights, exp_returns, cov_matrix):\n",
    "    return portfolio_performance(weights, exp_returns, cov_matrix)[1]\n"
   ]
  },
  {
   "cell_type": "markdown",
   "id": "9ee7d3d0",
   "metadata": {},
   "source": [
    "Optimization setup"
   ]
  },
  {
   "cell_type": "code",
   "execution_count": null,
   "id": "e70d828a",
   "metadata": {},
   "outputs": [],
   "source": [
    "# Constraints: sum(weights) == 1\n",
    "constraints = ({'type': 'eq', 'fun': lambda w: np.sum(w) - 1})\n",
    "bounds = tuple((0,1) for _ in assets)\n",
    "init_guess = np.array([1/3]*3)\n",
    "\n",
    "# Max Sharpe (Tangency Portfolio)\n",
    "opt_sharpe = minimize(neg_sharpe_ratio, init_guess,\n",
    "                      args=(exp_returns, cov_matrix_annual, 0.02),\n",
    "                      method='SLSQP', bounds=bounds, constraints=constraints)\n",
    "\n",
    "# Min Volatility Portfolio\n",
    "opt_minvol = minimize(min_volatility, init_guess,\n",
    "                      args=(exp_returns, cov_matrix_annual),\n",
    "                      method='SLSQP', bounds=bounds, constraints=constraints)\n",
    "\n",
    "w_sharpe = opt_sharpe.x\n",
    "w_minvol = opt_minvol.x\n"
   ]
  },
  {
   "cell_type": "markdown",
   "id": "b4145d27",
   "metadata": {},
   "source": [
    "Build the Efficient Frontier"
   ]
  },
  {
   "cell_type": "code",
   "execution_count": null,
   "id": "e54baa22",
   "metadata": {},
   "outputs": [],
   "source": [
    "plt.plot(frontier_vols, target_returns, 'g--', label='Efficient Frontier')\n",
    "\n",
    "# Mark max Sharpe\n",
    "sharpe_ret, sharpe_vol = portfolio_performance(w_sharpe, exp_returns, cov_matrix_annual)\n",
    "plt.scatter(sharpe_vol, sharpe_ret, c='red', marker='*', s=200, label='Max Sharpe')\n",
    "\n",
    "# Mark min vol\n",
    "minvol_ret, minvol_vol = portfolio_performance(w_minvol, exp_returns, cov_matrix_annual)\n",
    "plt.scatter(minvol_vol, minvol_ret, c='blue', marker='*', s=200, label='Min Volatility')\n",
    "\n",
    "plt.title(\"Efficient Frontier – TSLA, BND, SPY\")\n",
    "plt.xlabel(\"Volatility (Std. Dev.)\")\n",
    "plt.ylabel(\"Expected Return\")\n",
    "plt.legend()\n",
    "plt.show()\n"
   ]
  },
  {
   "cell_type": "markdown",
   "id": "b5f7130e",
   "metadata": {},
   "source": [
    "Final recommended portfolio"
   ]
  },
  {
   "cell_type": "code",
   "execution_count": null,
   "id": "ec93177a",
   "metadata": {},
   "outputs": [],
   "source": [
    "# Choose: Max Sharpe\n",
    "opt_weights = w_sharpe\n",
    "opt_ret, opt_vol = portfolio_performance(opt_weights, exp_returns, cov_matrix_annual)\n",
    "opt_sharpe_ratio = (opt_ret - 0.02) / opt_vol\n",
    "\n",
    "print(\"=== Recommended Portfolio (Max Sharpe) ===\")\n",
    "for a, w in zip(assets, opt_weights):\n",
    "    print(f\"{a}: {w:.2%}\")\n",
    "print(f\"Expected Annual Return: {opt_ret:.2%}\")\n",
    "print(f\"Annual Volatility: {opt_vol:.2%}\")\n",
    "print(f\"Sharpe Ratio (Rf=2%): {opt_sharpe_ratio:.2f}\")\n"
   ]
  }
 ],
 "metadata": {
  "language_info": {
   "name": "python"
  }
 },
 "nbformat": 4,
 "nbformat_minor": 5
}
